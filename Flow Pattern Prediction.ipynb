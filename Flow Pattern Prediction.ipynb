{
 "cells": [
  {
   "cell_type": "markdown",
   "id": "superior-sullivan",
   "metadata": {},
   "source": [
    "### Done as assignments for the microcredential in data science course. Copyright of the University of Houston HPE Data Science Institute."
   ]
  },
  {
   "cell_type": "markdown",
   "id": "advanced-emergency",
   "metadata": {},
   "source": [
    "### Question 1: Load the dataset in the file named BDOShoham.csv and produce at least one table and one graph that summarize the dataset statistics"
   ]
  },
  {
   "cell_type": "code",
   "execution_count": 1,
   "id": "cross-perspective",
   "metadata": {},
   "outputs": [
    {
     "data": {
      "text/html": [
       "<div>\n",
       "<style scoped>\n",
       "    .dataframe tbody tr th:only-of-type {\n",
       "        vertical-align: middle;\n",
       "    }\n",
       "\n",
       "    .dataframe tbody tr th {\n",
       "        vertical-align: top;\n",
       "    }\n",
       "\n",
       "    .dataframe thead th {\n",
       "        text-align: right;\n",
       "    }\n",
       "</style>\n",
       "<table border=\"1\" class=\"dataframe\">\n",
       "  <thead>\n",
       "    <tr style=\"text-align: right;\">\n",
       "      <th></th>\n",
       "      <th>FlowPattern</th>\n",
       "      <th>Vsl</th>\n",
       "      <th>Vsg</th>\n",
       "      <th>VisL</th>\n",
       "      <th>VisG</th>\n",
       "      <th>DenL</th>\n",
       "      <th>DenG</th>\n",
       "      <th>ST</th>\n",
       "      <th>Ang</th>\n",
       "      <th>ID</th>\n",
       "    </tr>\n",
       "  </thead>\n",
       "  <tbody>\n",
       "    <tr>\n",
       "      <th>0</th>\n",
       "      <td>1</td>\n",
       "      <td>6.3</td>\n",
       "      <td>0.025</td>\n",
       "      <td>0.001</td>\n",
       "      <td>0.00002</td>\n",
       "      <td>1000</td>\n",
       "      <td>1.8</td>\n",
       "      <td>0.07</td>\n",
       "      <td>0.0</td>\n",
       "      <td>0.051</td>\n",
       "    </tr>\n",
       "    <tr>\n",
       "      <th>1</th>\n",
       "      <td>1</td>\n",
       "      <td>4.0</td>\n",
       "      <td>0.040</td>\n",
       "      <td>0.001</td>\n",
       "      <td>0.00002</td>\n",
       "      <td>1000</td>\n",
       "      <td>1.8</td>\n",
       "      <td>0.07</td>\n",
       "      <td>0.0</td>\n",
       "      <td>0.051</td>\n",
       "    </tr>\n",
       "    <tr>\n",
       "      <th>2</th>\n",
       "      <td>1</td>\n",
       "      <td>6.3</td>\n",
       "      <td>0.040</td>\n",
       "      <td>0.001</td>\n",
       "      <td>0.00002</td>\n",
       "      <td>1000</td>\n",
       "      <td>1.8</td>\n",
       "      <td>0.07</td>\n",
       "      <td>0.0</td>\n",
       "      <td>0.051</td>\n",
       "    </tr>\n",
       "    <tr>\n",
       "      <th>3</th>\n",
       "      <td>1</td>\n",
       "      <td>4.0</td>\n",
       "      <td>0.063</td>\n",
       "      <td>0.001</td>\n",
       "      <td>0.00002</td>\n",
       "      <td>1000</td>\n",
       "      <td>1.8</td>\n",
       "      <td>0.07</td>\n",
       "      <td>0.0</td>\n",
       "      <td>0.051</td>\n",
       "    </tr>\n",
       "    <tr>\n",
       "      <th>4</th>\n",
       "      <td>1</td>\n",
       "      <td>6.3</td>\n",
       "      <td>0.063</td>\n",
       "      <td>0.001</td>\n",
       "      <td>0.00002</td>\n",
       "      <td>1000</td>\n",
       "      <td>1.8</td>\n",
       "      <td>0.07</td>\n",
       "      <td>0.0</td>\n",
       "      <td>0.051</td>\n",
       "    </tr>\n",
       "  </tbody>\n",
       "</table>\n",
       "</div>"
      ],
      "text/plain": [
       "   FlowPattern  Vsl    Vsg   VisL     VisG  DenL  DenG    ST  Ang     ID\n",
       "0            1  6.3  0.025  0.001  0.00002  1000   1.8  0.07  0.0  0.051\n",
       "1            1  4.0  0.040  0.001  0.00002  1000   1.8  0.07  0.0  0.051\n",
       "2            1  6.3  0.040  0.001  0.00002  1000   1.8  0.07  0.0  0.051\n",
       "3            1  4.0  0.063  0.001  0.00002  1000   1.8  0.07  0.0  0.051\n",
       "4            1  6.3  0.063  0.001  0.00002  1000   1.8  0.07  0.0  0.051"
      ]
     },
     "metadata": {},
     "output_type": "display_data"
    },
    {
     "data": {
      "text/html": [
       "<div>\n",
       "<style scoped>\n",
       "    .dataframe tbody tr th:only-of-type {\n",
       "        vertical-align: middle;\n",
       "    }\n",
       "\n",
       "    .dataframe tbody tr th {\n",
       "        vertical-align: top;\n",
       "    }\n",
       "\n",
       "    .dataframe thead th {\n",
       "        text-align: right;\n",
       "    }\n",
       "</style>\n",
       "<table border=\"1\" class=\"dataframe\">\n",
       "  <thead>\n",
       "    <tr style=\"text-align: right;\">\n",
       "      <th></th>\n",
       "      <th>FlowPattern</th>\n",
       "      <th>Vsl</th>\n",
       "      <th>Vsg</th>\n",
       "      <th>VisL</th>\n",
       "      <th>VisG</th>\n",
       "      <th>DenL</th>\n",
       "      <th>DenG</th>\n",
       "      <th>ST</th>\n",
       "      <th>Ang</th>\n",
       "      <th>ID</th>\n",
       "    </tr>\n",
       "  </thead>\n",
       "  <tbody>\n",
       "    <tr>\n",
       "      <th>5670</th>\n",
       "      <td>5</td>\n",
       "      <td>2.70096</td>\n",
       "      <td>15.8561</td>\n",
       "      <td>0.001</td>\n",
       "      <td>0.00002</td>\n",
       "      <td>1000</td>\n",
       "      <td>1.8</td>\n",
       "      <td>0.07</td>\n",
       "      <td>-80.0</td>\n",
       "      <td>0.025</td>\n",
       "    </tr>\n",
       "    <tr>\n",
       "      <th>5671</th>\n",
       "      <td>5</td>\n",
       "      <td>1.58784</td>\n",
       "      <td>15.8394</td>\n",
       "      <td>0.001</td>\n",
       "      <td>0.00002</td>\n",
       "      <td>1000</td>\n",
       "      <td>1.8</td>\n",
       "      <td>0.07</td>\n",
       "      <td>-80.0</td>\n",
       "      <td>0.025</td>\n",
       "    </tr>\n",
       "    <tr>\n",
       "      <th>5672</th>\n",
       "      <td>5</td>\n",
       "      <td>1.05338</td>\n",
       "      <td>16.0692</td>\n",
       "      <td>0.001</td>\n",
       "      <td>0.00002</td>\n",
       "      <td>1000</td>\n",
       "      <td>1.8</td>\n",
       "      <td>0.07</td>\n",
       "      <td>-80.0</td>\n",
       "      <td>0.025</td>\n",
       "    </tr>\n",
       "    <tr>\n",
       "      <th>5673</th>\n",
       "      <td>5</td>\n",
       "      <td>1.05397</td>\n",
       "      <td>25.7439</td>\n",
       "      <td>0.001</td>\n",
       "      <td>0.00002</td>\n",
       "      <td>1000</td>\n",
       "      <td>1.8</td>\n",
       "      <td>0.07</td>\n",
       "      <td>-80.0</td>\n",
       "      <td>0.025</td>\n",
       "    </tr>\n",
       "    <tr>\n",
       "      <th>5674</th>\n",
       "      <td>5</td>\n",
       "      <td>1.66789</td>\n",
       "      <td>26.1616</td>\n",
       "      <td>0.001</td>\n",
       "      <td>0.00002</td>\n",
       "      <td>1000</td>\n",
       "      <td>1.8</td>\n",
       "      <td>0.07</td>\n",
       "      <td>-80.0</td>\n",
       "      <td>0.025</td>\n",
       "    </tr>\n",
       "  </tbody>\n",
       "</table>\n",
       "</div>"
      ],
      "text/plain": [
       "      FlowPattern      Vsl      Vsg   VisL     VisG  DenL  DenG    ST   Ang  \\\n",
       "5670            5  2.70096  15.8561  0.001  0.00002  1000   1.8  0.07 -80.0   \n",
       "5671            5  1.58784  15.8394  0.001  0.00002  1000   1.8  0.07 -80.0   \n",
       "5672            5  1.05338  16.0692  0.001  0.00002  1000   1.8  0.07 -80.0   \n",
       "5673            5  1.05397  25.7439  0.001  0.00002  1000   1.8  0.07 -80.0   \n",
       "5674            5  1.66789  26.1616  0.001  0.00002  1000   1.8  0.07 -80.0   \n",
       "\n",
       "         ID  \n",
       "5670  0.025  \n",
       "5671  0.025  \n",
       "5672  0.025  \n",
       "5673  0.025  \n",
       "5674  0.025  "
      ]
     },
     "metadata": {},
     "output_type": "display_data"
    },
    {
     "name": "stdout",
     "output_type": "stream",
     "text": [
      "\n",
      "\n"
     ]
    }
   ],
   "source": [
    "import pandas as pd\n",
    "dataset = pd.read_csv('BDOShoham.csv')\n",
    "from IPython.display import display\n",
    "display(dataset.head(5))\n",
    "display(dataset.tail(5))\n",
    "print('\\n')"
   ]
  },
  {
   "cell_type": "code",
   "execution_count": 2,
   "id": "experimental-floating",
   "metadata": {},
   "outputs": [
    {
     "name": "stdout",
     "output_type": "stream",
     "text": [
      "Summary of the dataset - Univariate statistics\n"
     ]
    },
    {
     "data": {
      "text/html": [
       "<div>\n",
       "<style scoped>\n",
       "    .dataframe tbody tr th:only-of-type {\n",
       "        vertical-align: middle;\n",
       "    }\n",
       "\n",
       "    .dataframe tbody tr th {\n",
       "        vertical-align: top;\n",
       "    }\n",
       "\n",
       "    .dataframe thead th {\n",
       "        text-align: right;\n",
       "    }\n",
       "</style>\n",
       "<table border=\"1\" class=\"dataframe\">\n",
       "  <thead>\n",
       "    <tr style=\"text-align: right;\">\n",
       "      <th></th>\n",
       "      <th>FlowPattern</th>\n",
       "      <th>Vsl</th>\n",
       "      <th>Vsg</th>\n",
       "      <th>VisL</th>\n",
       "      <th>VisG</th>\n",
       "      <th>DenL</th>\n",
       "      <th>DenG</th>\n",
       "      <th>ST</th>\n",
       "      <th>Ang</th>\n",
       "      <th>ID</th>\n",
       "    </tr>\n",
       "  </thead>\n",
       "  <tbody>\n",
       "    <tr>\n",
       "      <th>count</th>\n",
       "      <td>5675.000000</td>\n",
       "      <td>5675.000000</td>\n",
       "      <td>5675.000000</td>\n",
       "      <td>5.675000e+03</td>\n",
       "      <td>5.675000e+03</td>\n",
       "      <td>5675.0</td>\n",
       "      <td>5.675000e+03</td>\n",
       "      <td>5.675000e+03</td>\n",
       "      <td>5675.000000</td>\n",
       "      <td>5675.000000</td>\n",
       "    </tr>\n",
       "    <tr>\n",
       "      <th>mean</th>\n",
       "      <td>4.059912</td>\n",
       "      <td>0.899747</td>\n",
       "      <td>6.222612</td>\n",
       "      <td>1.000000e-03</td>\n",
       "      <td>2.000000e-05</td>\n",
       "      <td>1000.0</td>\n",
       "      <td>1.800000e+00</td>\n",
       "      <td>7.000000e-02</td>\n",
       "      <td>2.727401</td>\n",
       "      <td>0.038657</td>\n",
       "    </tr>\n",
       "    <tr>\n",
       "      <th>std</th>\n",
       "      <td>1.379238</td>\n",
       "      <td>1.425159</td>\n",
       "      <td>8.699644</td>\n",
       "      <td>2.168595e-19</td>\n",
       "      <td>3.388430e-21</td>\n",
       "      <td>0.0</td>\n",
       "      <td>6.661925e-16</td>\n",
       "      <td>1.387901e-17</td>\n",
       "      <td>46.202822</td>\n",
       "      <td>0.012985</td>\n",
       "    </tr>\n",
       "    <tr>\n",
       "      <th>min</th>\n",
       "      <td>1.000000</td>\n",
       "      <td>0.001100</td>\n",
       "      <td>0.003720</td>\n",
       "      <td>1.000000e-03</td>\n",
       "      <td>2.000000e-05</td>\n",
       "      <td>1000.0</td>\n",
       "      <td>1.800000e+00</td>\n",
       "      <td>7.000000e-02</td>\n",
       "      <td>-90.000000</td>\n",
       "      <td>0.025000</td>\n",
       "    </tr>\n",
       "    <tr>\n",
       "      <th>25%</th>\n",
       "      <td>3.000000</td>\n",
       "      <td>0.016000</td>\n",
       "      <td>0.162055</td>\n",
       "      <td>1.000000e-03</td>\n",
       "      <td>2.000000e-05</td>\n",
       "      <td>1000.0</td>\n",
       "      <td>1.800000e+00</td>\n",
       "      <td>7.000000e-02</td>\n",
       "      <td>-10.000000</td>\n",
       "      <td>0.025000</td>\n",
       "    </tr>\n",
       "    <tr>\n",
       "      <th>50%</th>\n",
       "      <td>5.000000</td>\n",
       "      <td>0.250000</td>\n",
       "      <td>1.600000</td>\n",
       "      <td>1.000000e-03</td>\n",
       "      <td>2.000000e-05</td>\n",
       "      <td>1000.0</td>\n",
       "      <td>1.800000e+00</td>\n",
       "      <td>7.000000e-02</td>\n",
       "      <td>0.500000</td>\n",
       "      <td>0.051000</td>\n",
       "    </tr>\n",
       "    <tr>\n",
       "      <th>75%</th>\n",
       "      <td>5.000000</td>\n",
       "      <td>1.500000</td>\n",
       "      <td>10.000000</td>\n",
       "      <td>1.000000e-03</td>\n",
       "      <td>2.000000e-05</td>\n",
       "      <td>1000.0</td>\n",
       "      <td>1.800000e+00</td>\n",
       "      <td>7.000000e-02</td>\n",
       "      <td>20.000000</td>\n",
       "      <td>0.051000</td>\n",
       "    </tr>\n",
       "    <tr>\n",
       "      <th>max</th>\n",
       "      <td>7.000000</td>\n",
       "      <td>25.517000</td>\n",
       "      <td>42.956200</td>\n",
       "      <td>1.000000e-03</td>\n",
       "      <td>2.000000e-05</td>\n",
       "      <td>1000.0</td>\n",
       "      <td>1.800000e+00</td>\n",
       "      <td>7.000000e-02</td>\n",
       "      <td>90.000000</td>\n",
       "      <td>0.051000</td>\n",
       "    </tr>\n",
       "  </tbody>\n",
       "</table>\n",
       "</div>"
      ],
      "text/plain": [
       "       FlowPattern          Vsl          Vsg          VisL          VisG  \\\n",
       "count  5675.000000  5675.000000  5675.000000  5.675000e+03  5.675000e+03   \n",
       "mean      4.059912     0.899747     6.222612  1.000000e-03  2.000000e-05   \n",
       "std       1.379238     1.425159     8.699644  2.168595e-19  3.388430e-21   \n",
       "min       1.000000     0.001100     0.003720  1.000000e-03  2.000000e-05   \n",
       "25%       3.000000     0.016000     0.162055  1.000000e-03  2.000000e-05   \n",
       "50%       5.000000     0.250000     1.600000  1.000000e-03  2.000000e-05   \n",
       "75%       5.000000     1.500000    10.000000  1.000000e-03  2.000000e-05   \n",
       "max       7.000000    25.517000    42.956200  1.000000e-03  2.000000e-05   \n",
       "\n",
       "         DenL          DenG            ST          Ang           ID  \n",
       "count  5675.0  5.675000e+03  5.675000e+03  5675.000000  5675.000000  \n",
       "mean   1000.0  1.800000e+00  7.000000e-02     2.727401     0.038657  \n",
       "std       0.0  6.661925e-16  1.387901e-17    46.202822     0.012985  \n",
       "min    1000.0  1.800000e+00  7.000000e-02   -90.000000     0.025000  \n",
       "25%    1000.0  1.800000e+00  7.000000e-02   -10.000000     0.025000  \n",
       "50%    1000.0  1.800000e+00  7.000000e-02     0.500000     0.051000  \n",
       "75%    1000.0  1.800000e+00  7.000000e-02    20.000000     0.051000  \n",
       "max    1000.0  1.800000e+00  7.000000e-02    90.000000     0.051000  "
      ]
     },
     "metadata": {},
     "output_type": "display_data"
    },
    {
     "name": "stdout",
     "output_type": "stream",
     "text": [
      "\n",
      "\n"
     ]
    }
   ],
   "source": [
    "print('Summary of the dataset - Univariate statistics')   \n",
    "display(dataset.describe(include='all'))\n",
    "print('\\n')"
   ]
  },
  {
   "cell_type": "code",
   "execution_count": 3,
   "id": "musical-journal",
   "metadata": {},
   "outputs": [
    {
     "name": "stdout",
     "output_type": "stream",
     "text": [
      "Statistical summary of X:\n"
     ]
    },
    {
     "data": {
      "text/html": [
       "<div>\n",
       "<style scoped>\n",
       "    .dataframe tbody tr th:only-of-type {\n",
       "        vertical-align: middle;\n",
       "    }\n",
       "\n",
       "    .dataframe tbody tr th {\n",
       "        vertical-align: top;\n",
       "    }\n",
       "\n",
       "    .dataframe thead th {\n",
       "        text-align: right;\n",
       "    }\n",
       "</style>\n",
       "<table border=\"1\" class=\"dataframe\">\n",
       "  <thead>\n",
       "    <tr style=\"text-align: right;\">\n",
       "      <th></th>\n",
       "      <th>Ang</th>\n",
       "      <th>Vsg</th>\n",
       "      <th>Vsl</th>\n",
       "    </tr>\n",
       "  </thead>\n",
       "  <tbody>\n",
       "    <tr>\n",
       "      <th>count</th>\n",
       "      <td>5675.000000</td>\n",
       "      <td>5675.000000</td>\n",
       "      <td>5675.000000</td>\n",
       "    </tr>\n",
       "    <tr>\n",
       "      <th>mean</th>\n",
       "      <td>2.727401</td>\n",
       "      <td>6.222612</td>\n",
       "      <td>0.899747</td>\n",
       "    </tr>\n",
       "    <tr>\n",
       "      <th>std</th>\n",
       "      <td>46.202822</td>\n",
       "      <td>8.699644</td>\n",
       "      <td>1.425159</td>\n",
       "    </tr>\n",
       "    <tr>\n",
       "      <th>min</th>\n",
       "      <td>-90.000000</td>\n",
       "      <td>0.003720</td>\n",
       "      <td>0.001100</td>\n",
       "    </tr>\n",
       "    <tr>\n",
       "      <th>25%</th>\n",
       "      <td>-10.000000</td>\n",
       "      <td>0.162055</td>\n",
       "      <td>0.016000</td>\n",
       "    </tr>\n",
       "    <tr>\n",
       "      <th>50%</th>\n",
       "      <td>0.500000</td>\n",
       "      <td>1.600000</td>\n",
       "      <td>0.250000</td>\n",
       "    </tr>\n",
       "    <tr>\n",
       "      <th>75%</th>\n",
       "      <td>20.000000</td>\n",
       "      <td>10.000000</td>\n",
       "      <td>1.500000</td>\n",
       "    </tr>\n",
       "    <tr>\n",
       "      <th>max</th>\n",
       "      <td>90.000000</td>\n",
       "      <td>42.956200</td>\n",
       "      <td>25.517000</td>\n",
       "    </tr>\n",
       "  </tbody>\n",
       "</table>\n",
       "</div>"
      ],
      "text/plain": [
       "               Ang          Vsg          Vsl\n",
       "count  5675.000000  5675.000000  5675.000000\n",
       "mean      2.727401     6.222612     0.899747\n",
       "std      46.202822     8.699644     1.425159\n",
       "min     -90.000000     0.003720     0.001100\n",
       "25%     -10.000000     0.162055     0.016000\n",
       "50%       0.500000     1.600000     0.250000\n",
       "75%      20.000000    10.000000     1.500000\n",
       "max      90.000000    42.956200    25.517000"
      ]
     },
     "metadata": {},
     "output_type": "display_data"
    },
    {
     "name": "stdout",
     "output_type": "stream",
     "text": [
      "\n",
      "\n"
     ]
    }
   ],
   "source": [
    "X_name = [ 'Ang', 'Vsg', 'Vsl'] \n",
    "X = dataset[X_name]  \n",
    "print('Statistical summary of X:')\n",
    "display(X.describe())\n",
    "print('\\n')"
   ]
  },
  {
   "cell_type": "code",
   "execution_count": 4,
   "id": "charming-drink",
   "metadata": {},
   "outputs": [
    {
     "name": "stdout",
     "output_type": "stream",
     "text": [
      "Summary of X - Univariate graphs\n",
      "\n",
      "Histograms:\n"
     ]
    },
    {
     "data": {
      "image/png": "[encoded data removed]",
      "text/plain": [
       "<Figure size 1080x360 with 4 Axes>"
      ]
     },
     "metadata": {
      "needs_background": "light"
     },
     "output_type": "display_data"
    }
   ],
   "source": [
    "%matplotlib inline\n",
    "import matplotlib.pyplot as pl  \n",
    "\n",
    "print('Summary of X - Univariate graphs')\n",
    "print()\n",
    "\n",
    "print('Histograms:')\n",
    "X.hist(figsize=(15, 5), bins=20) \n",
    "pl.show()\n"
   ]
  },
  {
   "cell_type": "markdown",
   "id": "excited-howard",
   "metadata": {},
   "source": [
    "### Question 2: Set up a classification problem: predicting the FlowPattern value based on the values of the variables named Vsl, Vsg, and Ang. Train at least two models (e.g.,k-NN, logistic regression) to solve this classification problem"
   ]
  },
  {
   "cell_type": "markdown",
   "id": "lasting-norway",
   "metadata": {},
   "source": [
    "Method 1: #Logistic Regression"
   ]
  },
  {
   "cell_type": "code",
   "execution_count": 5,
   "id": "southwest-mechanism",
   "metadata": {},
   "outputs": [
    {
     "data": {
      "text/plain": [
       "5    2905\n",
       "4    1033\n",
       "3     878\n",
       "1     594\n",
       "2     140\n",
       "7     125\n",
       "Name: FlowPattern, dtype: int64"
      ]
     },
     "metadata": {},
     "output_type": "display_data"
    }
   ],
   "source": [
    "y_name = 'FlowPattern'\n",
    "y = dataset[y_name]\n",
    "display(y.value_counts())"
   ]
  },
  {
   "cell_type": "code",
   "execution_count": 6,
   "id": "upper-spectrum",
   "metadata": {},
   "outputs": [
    {
     "name": "stdout",
     "output_type": "stream",
     "text": [
      "done with setting aside data for testing\n"
     ]
    }
   ],
   "source": [
    "from sklearn import model_selection\n",
    "\n",
    "test_pct = 0.40\n",
    "seed = 7          \n",
    "X_train, X_test, y_train, y_test = model_selection.train_test_split(X, y, test_size=test_pct, random_state=seed)\n",
    "print('done with setting aside data for testing')"
   ]
  },
  {
   "cell_type": "code",
   "execution_count": 7,
   "id": "modular-romania",
   "metadata": {},
   "outputs": [
    {
     "name": "stdout",
     "output_type": "stream",
     "text": [
      "training model...\n",
      "done with training the model\n"
     ]
    }
   ],
   "source": [
    "from sklearn.linear_model import LogisticRegression\n",
    "\n",
    "print('training model...')\n",
    "modelName = LogisticRegression(solver='liblinear')\n",
    "modelName.fit(X_train, y_train) \n",
    "print('done with training the model')"
   ]
  },
  {
   "cell_type": "code",
   "execution_count": 8,
   "id": "elder-agriculture",
   "metadata": {},
   "outputs": [
    {
     "name": "stdout",
     "output_type": "stream",
     "text": [
      "computing accuracy...\n",
      "Accuracy: 0.66784140969163\n"
     ]
    }
   ],
   "source": [
    "from sklearn.metrics import accuracy_score\n",
    "\n",
    "print('computing accuracy...')\n",
    "y_predicted = modelName.predict(X_test)   \n",
    "print('Accuracy:', accuracy_score(y_test, y_predicted))"
   ]
  },
  {
   "cell_type": "code",
   "execution_count": 9,
   "id": "gentle-favor",
   "metadata": {},
   "outputs": [],
   "source": [
    "#Method2 : kNN model"
   ]
  },
  {
   "cell_type": "code",
   "execution_count": 10,
   "id": "coral-ecuador",
   "metadata": {},
   "outputs": [
    {
     "data": {
      "text/plain": [
       "<matplotlib.collections.PathCollection at 0x2a4b0d28af0>"
      ]
     },
     "execution_count": 10,
     "metadata": {},
     "output_type": "execute_result"
    },
    {
     "data": {
      "image/png": "[encoded data removed]",
      "text/plain": [
       "<Figure size 432x288 with 1 Axes>"
      ]
     },
     "metadata": {
      "needs_background": "light"
     },
     "output_type": "display_data"
    }
   ],
   "source": [
    "import matplotlib.pyplot as plt \n",
    "%matplotlib inline\n",
    "plt.scatter(X['Vsg'],y)\n",
    "plt.scatter(X['Vsl'],y)\n",
    "plt.scatter(X['Ang'],y)\n",
    "\n",
    "\n"
   ]
  },
  {
   "cell_type": "code",
   "execution_count": 11,
   "id": "looking-thomson",
   "metadata": {},
   "outputs": [
    {
     "name": "stdout",
     "output_type": "stream",
     "text": [
      "Working on model fitting...\n",
      "done with training the model\n"
     ]
    }
   ],
   "source": [
    "print('Working on model fitting...')\n",
    "\n",
    "import sklearn  \n",
    "from sklearn.neighbors import KNeighborsClassifier  \n",
    "\n",
    "neigh = KNeighborsClassifier()  \n",
    "neigh.fit(X_train, y_train) \n",
    "print('done with training the model')"
   ]
  },
  {
   "cell_type": "code",
   "execution_count": 12,
   "id": "respected-cruise",
   "metadata": {},
   "outputs": [
    {
     "name": "stdout",
     "output_type": "stream",
     "text": [
      "computing accuracy...\n",
      "Accuracy: 0.8317180616740089\n"
     ]
    }
   ],
   "source": [
    "from sklearn.metrics import accuracy_score\n",
    "\n",
    "print('computing accuracy...')\n",
    "y_predicted = neigh.predict(X_test)   \n",
    "print('Accuracy:', accuracy_score(y_test, y_predicted))"
   ]
  },
  {
   "cell_type": "code",
   "execution_count": 13,
   "id": "under-johnson",
   "metadata": {},
   "outputs": [
    {
     "data": {
      "text/html": [
       "<div>\n",
       "<style scoped>\n",
       "    .dataframe tbody tr th:only-of-type {\n",
       "        vertical-align: middle;\n",
       "    }\n",
       "\n",
       "    .dataframe tbody tr th {\n",
       "        vertical-align: top;\n",
       "    }\n",
       "\n",
       "    .dataframe thead th {\n",
       "        text-align: right;\n",
       "    }\n",
       "</style>\n",
       "<table border=\"1\" class=\"dataframe\">\n",
       "  <thead>\n",
       "    <tr style=\"text-align: right;\">\n",
       "      <th></th>\n",
       "      <th>Ang</th>\n",
       "      <th>Vsg</th>\n",
       "      <th>Vsl</th>\n",
       "    </tr>\n",
       "  </thead>\n",
       "  <tbody>\n",
       "    <tr>\n",
       "      <th>56</th>\n",
       "      <td>0.0</td>\n",
       "      <td>1.0000</td>\n",
       "      <td>0.10000</td>\n",
       "    </tr>\n",
       "    <tr>\n",
       "      <th>4351</th>\n",
       "      <td>-1.0</td>\n",
       "      <td>0.1600</td>\n",
       "      <td>2.50000</td>\n",
       "    </tr>\n",
       "    <tr>\n",
       "      <th>325</th>\n",
       "      <td>0.5</td>\n",
       "      <td>6.3000</td>\n",
       "      <td>0.01600</td>\n",
       "    </tr>\n",
       "    <tr>\n",
       "      <th>1483</th>\n",
       "      <td>20.0</td>\n",
       "      <td>24.5031</td>\n",
       "      <td>0.44608</td>\n",
       "    </tr>\n",
       "    <tr>\n",
       "      <th>4009</th>\n",
       "      <td>10.0</td>\n",
       "      <td>0.1500</td>\n",
       "      <td>1.50000</td>\n",
       "    </tr>\n",
       "  </tbody>\n",
       "</table>\n",
       "</div>"
      ],
      "text/plain": [
       "       Ang      Vsg      Vsl\n",
       "56     0.0   1.0000  0.10000\n",
       "4351  -1.0   0.1600  2.50000\n",
       "325    0.5   6.3000  0.01600\n",
       "1483  20.0  24.5031  0.44608\n",
       "4009  10.0   0.1500  1.50000"
      ]
     },
     "execution_count": 13,
     "metadata": {},
     "output_type": "execute_result"
    }
   ],
   "source": [
    "X_test.head(5)"
   ]
  },
  {
   "cell_type": "code",
   "execution_count": 14,
   "id": "african-intelligence",
   "metadata": {},
   "outputs": [],
   "source": [
    "d = {'Ang': [6.0], 'Vsg': [0.0], 'Vsl': [0.0]}\n",
    "df=pd.DataFrame(data=d)"
   ]
  },
  {
   "cell_type": "code",
   "execution_count": 15,
   "id": "private-parallel",
   "metadata": {},
   "outputs": [
    {
     "data": {
      "text/plain": [
       "array([5], dtype=int64)"
      ]
     },
     "execution_count": 15,
     "metadata": {},
     "output_type": "execute_result"
    }
   ],
   "source": [
    "neigh.predict(df)"
   ]
  },
  {
   "cell_type": "markdown",
   "id": "front-accounting",
   "metadata": {},
   "source": [
    "### Question 3: Evaluate each model’s performance using cross-validation on the training set you created; report on at least three different scoring methods (e.g., confusion matrix, weighted precision, macro recall, f1 score)"
   ]
  },
  {
   "cell_type": "code",
   "execution_count": 16,
   "id": "dense-charleston",
   "metadata": {},
   "outputs": [],
   "source": [
    "from sklearn import model_selection \n",
    "from sklearn.metrics import accuracy_score\n",
    "from sklearn.metrics import confusion_matrix\n",
    "from sklearn.metrics import classification_report\n",
    "from sklearn.metrics import cohen_kappa_score"
   ]
  },
  {
   "cell_type": "code",
   "execution_count": 17,
   "id": "compound-calibration",
   "metadata": {},
   "outputs": [],
   "source": [
    "models = []\n",
    "models.append(('LR', LogisticRegression(random_state=seed)))\n",
    "models.append(('KNN', KNeighborsClassifier())) \n"
   ]
  },
  {
   "cell_type": "code",
   "execution_count": 18,
   "id": "turkish-barcelona",
   "metadata": {},
   "outputs": [
    {
     "name": "stderr",
     "output_type": "stream",
     "text": [
      "C:\\Users\\abhij\\AppData\\Local\\Packages\\PythonSoftwareFoundation.Python.3.9_qbz5n2kfra8p0\\LocalCache\\local-packages\\Python39\\site-packages\\sklearn\\linear_model\\_logistic.py:444: ConvergenceWarning: lbfgs failed to converge (status=1):\n",
      "STOP: TOTAL NO. of ITERATIONS REACHED LIMIT.\n",
      "\n",
      "Increase the number of iterations (max_iter) or scale the data as shown in:\n",
      "    https://scikit-learn.org/stable/modules/preprocessing.html\n",
      "Please also refer to the documentation for alternative solver options:\n",
      "    https://scikit-learn.org/stable/modules/linear_model.html#logistic-regression\n",
      "  n_iter_i = _check_optimize_result(\n"
     ]
    },
    {
     "name": "stdout",
     "output_type": "stream",
     "text": [
      "RESULTS FOR LR\n",
      "Accuracy: 0.6502202643171806\n"
     ]
    },
    {
     "data": {
      "image/png": "[encoded data removed]",
      "text/plain": [
       "<Figure size 432x288 with 1 Axes>"
      ]
     },
     "metadata": {
      "needs_background": "light"
     },
     "output_type": "display_data"
    },
    {
     "name": "stderr",
     "output_type": "stream",
     "text": [
      "C:\\Users\\abhij\\AppData\\Local\\Packages\\PythonSoftwareFoundation.Python.3.9_qbz5n2kfra8p0\\LocalCache\\local-packages\\Python39\\site-packages\\sklearn\\metrics\\_classification.py:1334: UndefinedMetricWarning: Precision and F-score are ill-defined and being set to 0.0 in labels with no predicted samples. Use `zero_division` parameter to control this behavior.\n",
      "  _warn_prf(average, modifier, msg_start, len(result))\n",
      "C:\\Users\\abhij\\AppData\\Local\\Packages\\PythonSoftwareFoundation.Python.3.9_qbz5n2kfra8p0\\LocalCache\\local-packages\\Python39\\site-packages\\sklearn\\metrics\\_classification.py:1334: UndefinedMetricWarning: Precision and F-score are ill-defined and being set to 0.0 in labels with no predicted samples. Use `zero_division` parameter to control this behavior.\n",
      "  _warn_prf(average, modifier, msg_start, len(result))\n",
      "C:\\Users\\abhij\\AppData\\Local\\Packages\\PythonSoftwareFoundation.Python.3.9_qbz5n2kfra8p0\\LocalCache\\local-packages\\Python39\\site-packages\\sklearn\\metrics\\_classification.py:1334: UndefinedMetricWarning: Precision and F-score are ill-defined and being set to 0.0 in labels with no predicted samples. Use `zero_division` parameter to control this behavior.\n",
      "  _warn_prf(average, modifier, msg_start, len(result))\n"
     ]
    },
    {
     "name": "stdout",
     "output_type": "stream",
     "text": [
      "\n",
      " clasification report:\n",
      "               precision    recall  f1-score   support\n",
      "\n",
      "           1       0.80      0.52      0.63       246\n",
      "           2       0.00      0.00      0.00        63\n",
      "           3       0.33      0.14      0.20       361\n",
      "           4       0.70      0.66      0.68       403\n",
      "           5       0.66      0.88      0.75      1152\n",
      "           7       0.53      0.42      0.47        45\n",
      "\n",
      "    accuracy                           0.65      2270\n",
      "   macro avg       0.50      0.44      0.45      2270\n",
      "weighted avg       0.61      0.65      0.61      2270\n",
      "\n",
      "Cohen Kappa Score: 0.4230342002641575\n",
      "\n",
      "\n",
      "RESULTS FOR KNN\n",
      "Accuracy: 0.8317180616740089\n"
     ]
    },
    {
     "data": {
      "image/png": "[encoded data removed]",
      "text/plain": [
       "<Figure size 432x288 with 1 Axes>"
      ]
     },
     "metadata": {
      "needs_background": "light"
     },
     "output_type": "display_data"
    },
    {
     "name": "stdout",
     "output_type": "stream",
     "text": [
      "\n",
      " clasification report:\n",
      "               precision    recall  f1-score   support\n",
      "\n",
      "           1       0.78      0.78      0.78       246\n",
      "           2       0.89      0.87      0.88        63\n",
      "           3       0.73      0.88      0.80       361\n",
      "           4       0.78      0.79      0.79       403\n",
      "           5       0.92      0.84      0.88      1152\n",
      "           7       0.57      0.71      0.63        45\n",
      "\n",
      "    accuracy                           0.83      2270\n",
      "   macro avg       0.78      0.81      0.79      2270\n",
      "weighted avg       0.84      0.83      0.83      2270\n",
      "\n",
      "Cohen Kappa Score: 0.7551793649807732\n",
      "\n",
      "\n"
     ]
    }
   ],
   "source": [
    "import seaborn as sns  \n",
    "results = []\n",
    "names = []\n",
    "for name, modelName in models:   \n",
    "    modelName.fit(X_train, y_train) \n",
    "    y_predicted = modelName.predict(X_test) \n",
    "    print('RESULTS FOR '+name)  \n",
    "    print('Accuracy:', accuracy_score(y_test, y_predicted))\n",
    "    sns.heatmap(confusion_matrix(y_test, y_predicted), square=True, annot=True, fmt='d', cbar=False)\n",
    "    plt.xlabel('predicted')\n",
    "    plt.ylabel('true');\n",
    "    plt.show()\n",
    "    print('\\n clasification report:\\n', classification_report(y_test, y_predicted))\n",
    "    print('Cohen Kappa Score:', cohen_kappa_score(y_test, y_predicted))\n",
    "    print('\\n') "
   ]
  },
  {
   "cell_type": "markdown",
   "id": "operational-clinton",
   "metadata": {},
   "source": [
    "### Question 4: Modify at least two hyperparameters (e.g., n_neighbors, weights, metric, penalty) and describe the improvement/degradation of a model’s performance compared to its default settings"
   ]
  },
  {
   "cell_type": "code",
   "execution_count": 19,
   "id": "particular-taiwan",
   "metadata": {},
   "outputs": [],
   "source": [
    "modelsnew=[]\n",
    "modelsnew.append(('KNN-distance', KNeighborsClassifier(n_neighbors=5, weights='distance',metric = 'minkowski',p=2,algorithm = 'auto'))) \n",
    "modelsnew.append(('KNN-uniform', KNeighborsClassifier(n_neighbors=5, weights='uniform')))\n",
    "modelsnew.append(('LR-new', LogisticRegression(multi_class='multinomial', class_weight=None, solver='lbfgs', max_iter=250)))"
   ]
  },
  {
   "cell_type": "code",
   "execution_count": 20,
   "id": "retired-google",
   "metadata": {},
   "outputs": [
    {
     "name": "stdout",
     "output_type": "stream",
     "text": [
      "RESULTS FOR KNN-distance\n",
      "Accuracy: 0.8506607929515418\n"
     ]
    },
    {
     "data": {
      "image/png": "[encoded data removed]",
      "text/plain": [
       "<Figure size 432x288 with 1 Axes>"
      ]
     },
     "metadata": {
      "needs_background": "light"
     },
     "output_type": "display_data"
    },
    {
     "name": "stdout",
     "output_type": "stream",
     "text": [
      "\n",
      " clasification report:\n",
      "               precision    recall  f1-score   support\n",
      "\n",
      "           1       0.79      0.78      0.79       246\n",
      "           2       0.80      0.90      0.85        63\n",
      "           3       0.78      0.87      0.82       361\n",
      "           4       0.81      0.81      0.81       403\n",
      "           5       0.92      0.87      0.90      1152\n",
      "           7       0.62      0.82      0.70        45\n",
      "\n",
      "    accuracy                           0.85      2270\n",
      "   macro avg       0.79      0.84      0.81      2270\n",
      "weighted avg       0.86      0.85      0.85      2270\n",
      "\n",
      "Cohen Kappa Score: 0.7816291279211818\n",
      "\n",
      "\n",
      "RESULTS FOR KNN-uniform\n",
      "Accuracy: 0.8317180616740089\n"
     ]
    },
    {
     "data": {
      "image/png": "[encoded data removed]",
      "text/plain": [
       "<Figure size 432x288 with 1 Axes>"
      ]
     },
     "metadata": {
      "needs_background": "light"
     },
     "output_type": "display_data"
    },
    {
     "name": "stdout",
     "output_type": "stream",
     "text": [
      "\n",
      " clasification report:\n",
      "               precision    recall  f1-score   support\n",
      "\n",
      "           1       0.78      0.78      0.78       246\n",
      "           2       0.89      0.87      0.88        63\n",
      "           3       0.73      0.88      0.80       361\n",
      "           4       0.78      0.79      0.79       403\n",
      "           5       0.92      0.84      0.88      1152\n",
      "           7       0.57      0.71      0.63        45\n",
      "\n",
      "    accuracy                           0.83      2270\n",
      "   macro avg       0.78      0.81      0.79      2270\n",
      "weighted avg       0.84      0.83      0.83      2270\n",
      "\n",
      "Cohen Kappa Score: 0.7551793649807732\n",
      "\n",
      "\n",
      "RESULTS FOR LR-new\n",
      "Accuracy: 0.6524229074889868\n"
     ]
    },
    {
     "name": "stderr",
     "output_type": "stream",
     "text": [
      "C:\\Users\\abhij\\AppData\\Local\\Packages\\PythonSoftwareFoundation.Python.3.9_qbz5n2kfra8p0\\LocalCache\\local-packages\\Python39\\site-packages\\sklearn\\linear_model\\_logistic.py:444: ConvergenceWarning: lbfgs failed to converge (status=1):\n",
      "STOP: TOTAL NO. of ITERATIONS REACHED LIMIT.\n",
      "\n",
      "Increase the number of iterations (max_iter) or scale the data as shown in:\n",
      "    https://scikit-learn.org/stable/modules/preprocessing.html\n",
      "Please also refer to the documentation for alternative solver options:\n",
      "    https://scikit-learn.org/stable/modules/linear_model.html#logistic-regression\n",
      "  n_iter_i = _check_optimize_result(\n"
     ]
    },
    {
     "data": {
      "image/png": "[encoded data removed]",
      "text/plain": [
       "<Figure size 432x288 with 1 Axes>"
      ]
     },
     "metadata": {
      "needs_background": "light"
     },
     "output_type": "display_data"
    },
    {
     "name": "stdout",
     "output_type": "stream",
     "text": [
      "\n",
      " clasification report:\n",
      "               precision    recall  f1-score   support\n",
      "\n",
      "           1       0.82      0.54      0.65       246\n",
      "           2       0.00      0.00      0.00        63\n",
      "           3       0.30      0.12      0.17       361\n",
      "           4       0.69      0.65      0.67       403\n",
      "           5       0.66      0.89      0.76      1152\n",
      "           7       0.55      0.49      0.52        45\n",
      "\n",
      "    accuracy                           0.65      2270\n",
      "   macro avg       0.50      0.45      0.46      2270\n",
      "weighted avg       0.61      0.65      0.61      2270\n",
      "\n",
      "Cohen Kappa Score: 0.42730345022307936\n",
      "\n",
      "\n"
     ]
    },
    {
     "name": "stderr",
     "output_type": "stream",
     "text": [
      "C:\\Users\\abhij\\AppData\\Local\\Packages\\PythonSoftwareFoundation.Python.3.9_qbz5n2kfra8p0\\LocalCache\\local-packages\\Python39\\site-packages\\sklearn\\metrics\\_classification.py:1334: UndefinedMetricWarning: Precision and F-score are ill-defined and being set to 0.0 in labels with no predicted samples. Use `zero_division` parameter to control this behavior.\n",
      "  _warn_prf(average, modifier, msg_start, len(result))\n",
      "C:\\Users\\abhij\\AppData\\Local\\Packages\\PythonSoftwareFoundation.Python.3.9_qbz5n2kfra8p0\\LocalCache\\local-packages\\Python39\\site-packages\\sklearn\\metrics\\_classification.py:1334: UndefinedMetricWarning: Precision and F-score are ill-defined and being set to 0.0 in labels with no predicted samples. Use `zero_division` parameter to control this behavior.\n",
      "  _warn_prf(average, modifier, msg_start, len(result))\n",
      "C:\\Users\\abhij\\AppData\\Local\\Packages\\PythonSoftwareFoundation.Python.3.9_qbz5n2kfra8p0\\LocalCache\\local-packages\\Python39\\site-packages\\sklearn\\metrics\\_classification.py:1334: UndefinedMetricWarning: Precision and F-score are ill-defined and being set to 0.0 in labels with no predicted samples. Use `zero_division` parameter to control this behavior.\n",
      "  _warn_prf(average, modifier, msg_start, len(result))\n"
     ]
    }
   ],
   "source": [
    "import seaborn as sns  \n",
    "results = []\n",
    "namesnew = []\n",
    "for name, modelName in modelsnew:   \n",
    "    modelName.fit(X_train, y_train) \n",
    "    y_predicted = modelName.predict(X_test) \n",
    "    print('RESULTS FOR '+name)  \n",
    "    print('Accuracy:', accuracy_score(y_test, y_predicted))\n",
    "    sns.heatmap(confusion_matrix(y_test, y_predicted), square=True, annot=True, fmt='d', cbar=False)\n",
    "    plt.xlabel('predicted')\n",
    "    plt.ylabel('true');\n",
    "    plt.show()\n",
    "    print('\\n clasification report:\\n', classification_report(y_test, y_predicted))\n",
    "    print('Cohen Kappa Score:', cohen_kappa_score(y_test, y_predicted))\n",
    "    print('\\n') "
   ]
  },
  {
   "cell_type": "markdown",
   "id": "surprised-olympus",
   "metadata": {},
   "source": [
    "#### The accuracy after varying the hyperparameters have changed a little bit but not significantly as teh kNN model was already having a high accuracy of 83% with the default settings. "
   ]
  },
  {
   "cell_type": "markdown",
   "id": "talented-complex",
   "metadata": {},
   "source": [
    "### Question 5: Test the performance of the best model+hyperparameters combination using the test set you created. Discuss your overall results."
   ]
  },
  {
   "cell_type": "code",
   "execution_count": 21,
   "id": "periodic-kentucky",
   "metadata": {},
   "outputs": [
    {
     "name": "stdout",
     "output_type": "stream",
     "text": [
      " ++ NOW WORKING ON ALGORITHM KNN-distance ++\n",
      "Splitting data into 5 folds\n",
      "Training model on each split\n",
      "algorithm KNN-distance accuracy results: mean = 0.837592 (std = 0.002560)\n",
      " ++ NOW WORKING ON ALGORITHM KNN-uniform ++\n",
      "Splitting data into 5 folds\n",
      "Training model on each split\n",
      "algorithm KNN-uniform accuracy results: mean = 0.817621 (std = 0.011762)\n",
      " ++ NOW WORKING ON ALGORITHM LR-new ++\n",
      "Splitting data into 5 folds\n",
      "Training model on each split\n"
     ]
    },
    {
     "name": "stderr",
     "output_type": "stream",
     "text": [
      "C:\\Users\\abhij\\AppData\\Local\\Packages\\PythonSoftwareFoundation.Python.3.9_qbz5n2kfra8p0\\LocalCache\\local-packages\\Python39\\site-packages\\sklearn\\linear_model\\_logistic.py:444: ConvergenceWarning: lbfgs failed to converge (status=1):\n",
      "STOP: TOTAL NO. of ITERATIONS REACHED LIMIT.\n",
      "\n",
      "Increase the number of iterations (max_iter) or scale the data as shown in:\n",
      "    https://scikit-learn.org/stable/modules/preprocessing.html\n",
      "Please also refer to the documentation for alternative solver options:\n",
      "    https://scikit-learn.org/stable/modules/linear_model.html#logistic-regression\n",
      "  n_iter_i = _check_optimize_result(\n",
      "C:\\Users\\abhij\\AppData\\Local\\Packages\\PythonSoftwareFoundation.Python.3.9_qbz5n2kfra8p0\\LocalCache\\local-packages\\Python39\\site-packages\\sklearn\\linear_model\\_logistic.py:444: ConvergenceWarning: lbfgs failed to converge (status=1):\n",
      "STOP: TOTAL NO. of ITERATIONS REACHED LIMIT.\n",
      "\n",
      "Increase the number of iterations (max_iter) or scale the data as shown in:\n",
      "    https://scikit-learn.org/stable/modules/preprocessing.html\n",
      "Please also refer to the documentation for alternative solver options:\n",
      "    https://scikit-learn.org/stable/modules/linear_model.html#logistic-regression\n",
      "  n_iter_i = _check_optimize_result(\n",
      "C:\\Users\\abhij\\AppData\\Local\\Packages\\PythonSoftwareFoundation.Python.3.9_qbz5n2kfra8p0\\LocalCache\\local-packages\\Python39\\site-packages\\sklearn\\linear_model\\_logistic.py:444: ConvergenceWarning: lbfgs failed to converge (status=1):\n",
      "STOP: TOTAL NO. of ITERATIONS REACHED LIMIT.\n",
      "\n",
      "Increase the number of iterations (max_iter) or scale the data as shown in:\n",
      "    https://scikit-learn.org/stable/modules/preprocessing.html\n",
      "Please also refer to the documentation for alternative solver options:\n",
      "    https://scikit-learn.org/stable/modules/linear_model.html#logistic-regression\n",
      "  n_iter_i = _check_optimize_result(\n",
      "C:\\Users\\abhij\\AppData\\Local\\Packages\\PythonSoftwareFoundation.Python.3.9_qbz5n2kfra8p0\\LocalCache\\local-packages\\Python39\\site-packages\\sklearn\\linear_model\\_logistic.py:444: ConvergenceWarning: lbfgs failed to converge (status=1):\n",
      "STOP: TOTAL NO. of ITERATIONS REACHED LIMIT.\n",
      "\n",
      "Increase the number of iterations (max_iter) or scale the data as shown in:\n",
      "    https://scikit-learn.org/stable/modules/preprocessing.html\n",
      "Please also refer to the documentation for alternative solver options:\n",
      "    https://scikit-learn.org/stable/modules/linear_model.html#logistic-regression\n",
      "  n_iter_i = _check_optimize_result(\n"
     ]
    },
    {
     "name": "stdout",
     "output_type": "stream",
     "text": [
      "algorithm LR-new accuracy results: mean = 0.666960 (std = 0.006850)\n",
      "done \n",
      "\n"
     ]
    },
    {
     "name": "stderr",
     "output_type": "stream",
     "text": [
      "C:\\Users\\abhij\\AppData\\Local\\Packages\\PythonSoftwareFoundation.Python.3.9_qbz5n2kfra8p0\\LocalCache\\local-packages\\Python39\\site-packages\\sklearn\\linear_model\\_logistic.py:444: ConvergenceWarning: lbfgs failed to converge (status=1):\n",
      "STOP: TOTAL NO. of ITERATIONS REACHED LIMIT.\n",
      "\n",
      "Increase the number of iterations (max_iter) or scale the data as shown in:\n",
      "    https://scikit-learn.org/stable/modules/preprocessing.html\n",
      "Please also refer to the documentation for alternative solver options:\n",
      "    https://scikit-learn.org/stable/modules/linear_model.html#logistic-regression\n",
      "  n_iter_i = _check_optimize_result(\n"
     ]
    }
   ],
   "source": [
    "k4folds = 5\n",
    "scoring = 'accuracy'\n",
    "for name, model in modelsnew:   # Select each model in turn\n",
    "    print(\" ++ NOW WORKING ON ALGORITHM %s ++\" % name)\n",
    "    print(\"Splitting data into %s folds\" % k4folds)\n",
    "    kfold = model_selection.KFold(n_splits=k4folds, random_state=seed, shuffle=True)\n",
    "    print(\"Training model on each split\")\n",
    "    cv_results = model_selection.cross_val_score(model, X_train, y_train, cv=kfold, scoring=scoring)\n",
    "    results.append(cv_results)\n",
    "    namesnew.append(name)\n",
    "    msg = \"algorithm %s %s results: mean = %f (std = %f)\" % (name, scoring, cv_results.mean(), cv_results.std())\n",
    "    print(msg)\n",
    "    \n",
    "print('done \\n')"
   ]
  },
  {
   "cell_type": "code",
   "execution_count": 22,
   "id": "fancy-cooperation",
   "metadata": {},
   "outputs": [
    {
     "data": {
      "image/png": "[encoded data removed]",
      "text/plain": [
       "<Figure size 432x288 with 1 Axes>"
      ]
     },
     "metadata": {
      "needs_background": "light"
     },
     "output_type": "display_data"
    }
   ],
   "source": [
    "fig = pl.figure()\n",
    "fig.suptitle('Algorithm Comparison based on %s' % scoring)\n",
    "ax = fig.add_subplot(111)\n",
    "pl.boxplot(results)\n",
    "ax.set_xticklabels(namesnew)\n",
    "pl.show()"
   ]
  },
  {
   "cell_type": "markdown",
   "id": "green-sending",
   "metadata": {},
   "source": [
    "### KNN-distance with the new hyperparameters combination is the best model."
   ]
  },
  {
   "cell_type": "code",
   "execution_count": null,
   "id": "young-invalid",
   "metadata": {},
   "outputs": [],
   "source": []
  }
 ],
 "metadata": {
  "kernelspec": {
   "display_name": "Python 3",
   "language": "python",
   "name": "python3"
  },
  "language_info": {
   "codemirror_mode": {
    "name": "ipython",
    "version": 3
   },
   "file_extension": ".py",
   "mimetype": "text/x-python",
   "name": "python",
   "nbconvert_exporter": "python",
   "pygments_lexer": "ipython3",
   "version": "3.9.13"
  }
 },
 "nbformat": 4,
 "nbformat_minor": 5
}
